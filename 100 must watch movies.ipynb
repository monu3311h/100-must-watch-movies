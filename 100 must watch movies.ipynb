{
 "cells": [
  {
   "cell_type": "code",
   "execution_count": 1,
   "id": "fc5a9545-2bcb-4eef-8c45-347613fd1514",
   "metadata": {},
   "outputs": [],
   "source": [
    "import requests"
   ]
  },
  {
   "cell_type": "code",
   "execution_count": 26,
   "id": "4b963568-9262-4a05-a444-75855e6dfb62",
   "metadata": {},
   "outputs": [],
   "source": [
    "import lxml"
   ]
  },
  {
   "cell_type": "code",
   "execution_count": 3,
   "id": "e71e40bb-eea5-4576-a34c-c12a64b3aa63",
   "metadata": {},
   "outputs": [],
   "source": [
    "from bs4 import BeautifulSoup"
   ]
  },
  {
   "cell_type": "code",
   "execution_count": 33,
   "id": "ae6fae20-d0b4-45f2-bdba-4154e6b36af3",
   "metadata": {},
   "outputs": [],
   "source": [
    "response = requests.get('https://www.empireonline.com/movies/features/best-movies-2')\n",
    "empire_webpage = response.text\n",
    "soup = BeautifulSoup(empire_webpage, 'html.parser')"
   ]
  },
  {
   "cell_type": "code",
   "execution_count": 63,
   "id": "25ad3e50-a7e0-400f-aef3-f782e3d688e2",
   "metadata": {},
   "outputs": [
    {
     "data": {
      "text/plain": [
       "['100 Reservoir Dogs',\n",
       " '99) Groundhog Day',\n",
       " '98) Paddington 2',\n",
       " '97) Amelie',\n",
       " '96) Brokeback Mountain',\n",
       " '95) Donnie Darko',\n",
       " '94) Scott Pilgrim Vs. The World',\n",
       " '93) Portrait Of A Lady On Fire',\n",
       " '92) Léon',\n",
       " '91) Logan',\n",
       " '90) The Terminator',\n",
       " '89) No Country For Old Men',\n",
       " '88) Titanic',\n",
       " '87) The Exorcist',\n",
       " '86) Black Panther',\n",
       " '85) Shaun Of The Dead',\n",
       " '84) Lost In Translation',\n",
       " '83) Thor: Ragnarok',\n",
       " '82) The Usual Suspects',\n",
       " '81) Psycho',\n",
       " '80) L.A. Confidential',\n",
       " '79) E.T. – The Extra Terrestrial',\n",
       " '78) In The Mood For Love',\n",
       " '77) Star Wars: Return Of The Jedi',\n",
       " '76) Arrival',\n",
       " '75) A Quiet Place',\n",
       " '74) Trainspotting',\n",
       " '73) Mulholland Drive',\n",
       " '72) Rear Window',\n",
       " '71) Up',\n",
       " '70) Spider-Man: Into The Spider-Verse',\n",
       " '69) Inglourious Basterds',\n",
       " '68) Lady Bird',\n",
       " \"67) Singin' In The Rain\",\n",
       " \"66) One Flew Over The Cuckoo's Nest\",\n",
       " '65) Seven Samurai',\n",
       " '64) La La Land',\n",
       " '63) Get Out',\n",
       " '62) Lawrence Of Arabia',\n",
       " \"61) Pan's Labyrinth\",\n",
       " '60) Hot Fuzz',\n",
       " '59) Moonlight',\n",
       " '58) Guardians Of The Galaxy',\n",
       " '57) Blade Runner 2049',\n",
       " '56) The Social Network',\n",
       " '55) Taxi Driver',\n",
       " '54) Saving Private Ryan',\n",
       " '53) Forrest Gump',\n",
       " '52)  Point Break',\n",
       " '51) Whiplash',\n",
       " '50) Vertigo',\n",
       " '49) Spirited Away',\n",
       " '48) Ghostbusters',\n",
       " '47) Do The Right Thing',\n",
       " \"46) Schindler's List\",\n",
       " '45) The Big Lebowski',\n",
       " \"44) It's A Wonderful Life\",\n",
       " '43) There Will Be Blood',\n",
       " '42) 12 Angry Men',\n",
       " '41) The Silence Of The Lambs',\n",
       " '40)  Citizen Kane',\n",
       " '39) Gladiator',\n",
       " '38) The Good, The Bad And The Ugly',\n",
       " '37) Se7en',\n",
       " '36) Eternal Sunshine Of The Spotless Mind',\n",
       " '35) The Shining',\n",
       " '34) The Lord Of The Rings: The Two Towers',\n",
       " '33) Casablanca',\n",
       " '32) The Thing',\n",
       " '31) Interstellar',\n",
       " '30) Heat',\n",
       " '29) Apocalypse Now',\n",
       " '28) Indiana Jones And The Last Crusade',\n",
       " '27) The Lord Of The Rings The Return Of The King',\n",
       " '26) Die Hard',\n",
       " '25) Fight Club',\n",
       " '24) Terminator 2 Judgment Day',\n",
       " '23) 2001: A Space Odyssey',\n",
       " '22) Avengers: Endgame',\n",
       " '21) Alien',\n",
       " '20) The Matrix',\n",
       " '19) Inception',\n",
       " '18) Parasite',\n",
       " '17) Aliens',\n",
       " '16) Blade Runner',\n",
       " '15) Jurassic Park',\n",
       " '14) The Godfather Part II',\n",
       " '13) Back To The Future',\n",
       " '12) Mad Max: Fury Road',\n",
       " '11) Star Wars',\n",
       " '10) Goodfellas',\n",
       " '9) Raiders Of The Lost Ark',\n",
       " '8) Avengers: Infinity War',\n",
       " '7) Pulp Fiction',\n",
       " '6) Jaws',\n",
       " '5) The Shawshank Redemption',\n",
       " '4) The Dark Knight',\n",
       " '3) The Godfather',\n",
       " '2) Star Wars: The Empire Strikes Back',\n",
       " '1) The Lord Of The Rings: The Fellowship Of The Ring']"
      ]
     },
     "execution_count": 63,
     "metadata": {},
     "output_type": "execute_result"
    }
   ],
   "source": [
    "title_tags = soup.select('div h3')\n",
    "movies_list = [tag.text for tag in title_tags]"
   ]
  },
  {
   "cell_type": "code",
   "execution_count": 65,
   "id": "a54cde75-ff81-4126-b64a-5a06b534c4fc",
   "metadata": {},
   "outputs": [],
   "source": [
    "with open('must-watch-100-movies', 'a') as file:\n",
    "    for movie in movies_list[::-1]:\n",
    "        file.write(f'{movie}\\n')\n",
    "        \n",
    "    "
   ]
  }
 ],
 "metadata": {
  "kernelspec": {
   "display_name": "Python 3 (ipykernel)",
   "language": "python",
   "name": "python3"
  },
  "language_info": {
   "codemirror_mode": {
    "name": "ipython",
    "version": 3
   },
   "file_extension": ".py",
   "mimetype": "text/x-python",
   "name": "python",
   "nbconvert_exporter": "python",
   "pygments_lexer": "ipython3",
   "version": "3.12.4"
  }
 },
 "nbformat": 4,
 "nbformat_minor": 5
}
